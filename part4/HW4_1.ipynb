{
 "cells": [
  {
   "cell_type": "markdown",
   "metadata": {},
   "source": [
    "[![Open In Colab](https://colab.research.google.com/assets/colab-badge.svg)](https://colab.research.google.com/github/alexj-smolin/ds-school/blob/main/part4/HW4_1.ipynb)"
   ]
  },
  {
   "cell_type": "code",
   "execution_count": 1,
   "metadata": {
    "ExecuteTime": {
     "end_time": "2023-03-12T13:49:13.562499Z",
     "start_time": "2023-03-12T13:49:13.124221Z"
    },
    "id": "in0PyicHhZDG"
   },
   "outputs": [],
   "source": [
    "import datetime\n",
    "\n",
    "import torch\n",
    "import torch.nn as nn\n",
    "from torch.utils.data import Dataset\n",
    "from torch.nn.utils.rnn import pad_sequence\n",
    "from torch.utils.data import DataLoader"
   ]
  },
  {
   "cell_type": "code",
   "execution_count": 2,
   "metadata": {
    "ExecuteTime": {
     "end_time": "2023-03-12T13:49:13.565337Z",
     "start_time": "2023-03-12T13:49:13.563670Z"
    },
    "id": "Os4tVkvmkTIp"
   },
   "outputs": [],
   "source": [
    "# from google.colab import drive\n",
    "# drive.mount('/content/drive')\n",
    "\n",
    "# data_dir = '/content/drive/MyDrive/Sber_DS/NN/data/'\n",
    "data_dir = './data/'\n",
    "train_lang = 'en'"
   ]
  },
  {
   "cell_type": "code",
   "execution_count": 3,
   "metadata": {
    "ExecuteTime": {
     "end_time": "2023-03-12T13:49:13.571161Z",
     "start_time": "2023-03-12T13:49:13.566163Z"
    },
    "id": "SI8UCZuy7hTK"
   },
   "outputs": [],
   "source": [
    "class DatasetSeq(Dataset):\n",
    "    def __init__(self, data_dir, train_lang='en'):\n",
    "        #open file\n",
    "        with open(data_dir + train_lang + '.train', 'r') as f:\n",
    "            train = f.read().split('\\n\\n')\n",
    "\n",
    "        # delete extra tag markup\n",
    "        train = [x for x in train if not '_ ' in x]\n",
    "        #init vocabs of tokens for encoding {<str> token: <int> id}\n",
    "        self.target_vocab = {} # {p: 1, a: 2, r: 3, pu: 4}\n",
    "        self.word_vocab = {} # {cat: 1, sat: 2, on: 3, mat: 4, '.': 5}\n",
    "        self.char_vocab = {} # {c: 1, a: 2, t: 3, ' ': 4, s: 5}\n",
    "\n",
    "        # Cat sat on mat. -> [1, 2, 3, 4, 5]\n",
    "        # p    a  r  p pu -> [1, 2, 3, 1, 4]\n",
    "        # chars  -> [1, 2, 3, 4, 5, 2, 3, 4]\n",
    "\n",
    "        #init encoded sequences lists (processed data)\n",
    "        self.encoded_sequences = []\n",
    "        self.encoded_targets = []\n",
    "        self.encoded_char_sequences = []\n",
    "        # n=1 because first value is padding\n",
    "        n_word = 1\n",
    "        n_target = 1\n",
    "        n_char = 1\n",
    "        for line in train:\n",
    "            sequence = []\n",
    "            target = []\n",
    "            chars = []\n",
    "            for item in line.split('\\n'):\n",
    "                if item != '':\n",
    "                    word, label = item.split(' ')\n",
    "\n",
    "                    if self.word_vocab.get(word) is None:\n",
    "                        self.word_vocab[word] = n_word\n",
    "                        n_word += 1\n",
    "                    if self.target_vocab.get(label) is None:\n",
    "                        self.target_vocab[label] = n_target\n",
    "                        n_target += 1\n",
    "                    for char in word:\n",
    "                        if self.char_vocab.get(char) is None:\n",
    "                            self.char_vocab[char] = n_char\n",
    "                            n_char += 1\n",
    "                    sequence.append(self.word_vocab[word])\n",
    "                    target.append(self.target_vocab[label])\n",
    "                    chars.append([self.char_vocab[char] for char in word])\n",
    "            self.encoded_sequences.append(sequence)\n",
    "            self.encoded_targets.append(target)\n",
    "            self.encoded_char_sequences.append(chars)\n",
    "\n",
    "    def __len__(self):\n",
    "        return len(self.encoded_sequences)\n",
    "\n",
    "    def __getitem__(self, index):\n",
    "        return {\n",
    "            'data': self.encoded_sequences[index], # [1, 2, 3, 4, 6] len=5\n",
    "            'char': self.encoded_char_sequences[index],# [[1,2,3], [4,5], [1,2], [2,6,5,4], []] len=5\n",
    "            'target': self.encoded_targets[index], #  (1)\n",
    "        }"
   ]
  },
  {
   "cell_type": "code",
   "execution_count": 4,
   "metadata": {
    "ExecuteTime": {
     "end_time": "2023-03-12T13:49:14.124446Z",
     "start_time": "2023-03-12T13:49:13.572659Z"
    },
    "id": "dhJuBtoz7f43"
   },
   "outputs": [],
   "source": [
    "dataset = DatasetSeq(data_dir)"
   ]
  },
  {
   "cell_type": "code",
   "execution_count": 5,
   "metadata": {
    "ExecuteTime": {
     "end_time": "2023-03-12T13:49:14.126946Z",
     "start_time": "2023-03-12T13:49:14.125399Z"
    },
    "id": "0zXXXYP37gFL"
   },
   "outputs": [],
   "source": [
    "#padding\n",
    "# seq1 = [1, 2, 3, 4]\n",
    "# seq2 = [9, 7, 6, 4, 3, 7, 5]\n",
    "# pad seq1 equal seq2\n",
    "# seq1 = [1, 2, 3, 4, 0, 0, 0]\n",
    "# concat(seq1, seq2) [[1, 2, 3, 4, 0, 0, 0],\n",
    "#                     [9, 7, 6, 4, 3, 7, 5]]"
   ]
  },
  {
   "cell_type": "code",
   "execution_count": 6,
   "metadata": {
    "ExecuteTime": {
     "end_time": "2023-03-12T13:49:14.129764Z",
     "start_time": "2023-03-12T13:49:14.127681Z"
    },
    "id": "uPJauY4hAqJ6"
   },
   "outputs": [],
   "source": [
    "def collate_fn(batch):\n",
    "    data = []\n",
    "    target = []\n",
    "    for item in batch:\n",
    "        data.append(torch.as_tensor(item['data']))\n",
    "        target.append(torch.as_tensor(item['target']))\n",
    "    # pad different length sequences\n",
    "    data = pad_sequence(data, batch_first=True, padding_value=0)\n",
    "    target = pad_sequence(target, batch_first=True, padding_value=0)\n",
    "\n",
    "    return {'data': data, 'target': target}"
   ]
  },
  {
   "cell_type": "code",
   "execution_count": 7,
   "metadata": {
    "ExecuteTime": {
     "end_time": "2023-03-12T13:49:14.134001Z",
     "start_time": "2023-03-12T13:49:14.130519Z"
    },
    "id": "KTz2txO4LTZ3"
   },
   "outputs": [],
   "source": [
    "class RNNCellPredictor(nn.Module):\n",
    "    def __init__(self, vocab_size, emb_dim, hidden_dim, n_classes):\n",
    "        super().__init__()\n",
    "        self.word_emb = nn.Embedding(vocab_size, emb_dim)\n",
    "        self.rnn_cell = nn.GRUCell(emb_dim, hidden_dim)\n",
    "        self.clf = nn.Linear(hidden_dim, n_classes)\n",
    "        self.do = nn.Dropout(0.1)\n",
    "        self.hidden_dim = hidden_dim\n",
    "\n",
    "    def forward(self, x): # B x T\n",
    "        b, t = x.size()\n",
    "        emb = self.word_emb(x) # B x T x Ebm_dim\n",
    "        rnn_out = []\n",
    "        hidden = torch.zeros((b, self.hidden_dim), device=x.device)\n",
    "        for i in range(t):\n",
    "            hidden = self.gru_cell(emb[:, i, :], # emb[:, i, :]: B x Emb_dim\n",
    "                                   hidden) # hidden: B x Hid_dim\n",
    "            rnn_out.append(hidden.unsqueeze(1)) # B x 1 x Hid_dim\n",
    "        rnn_out = torch.cat(rnn_out, dim=1) # B x T x Hid_dim\n",
    "\n",
    "        return self.clf(self.do(rnn_out))\n"
   ]
  },
  {
   "cell_type": "code",
   "execution_count": 8,
   "metadata": {
    "ExecuteTime": {
     "end_time": "2023-03-12T13:49:14.137309Z",
     "start_time": "2023-03-12T13:49:14.134676Z"
    },
    "id": "WBFZc1qY6HsC"
   },
   "outputs": [],
   "source": [
    "# Изменения:\n",
    "# * заменил GRU на RNN с 3 скрытыми слоями + dropout\n",
    "# * увеличил размер hidden_dim и размер батча\n",
    "# * учил на устройстве Apple M1 (через бэкэнд торча MPS)\n",
    "# * качество после 10 эпох получилось сравнимым с обучением GRU\n",
    "\n",
    "class RNNPredictor(nn.Module):\n",
    "    def __init__(self, vocab_size, emb_dim, hidden_dim, n_classes):\n",
    "        super().__init__()\n",
    "        #TODO try to use other RNN archicetures, f.e. RNN and LSTM\n",
    "        self.word_emb = nn.Embedding(vocab_size, emb_dim)\n",
    "        # batch_first = False: T x B x Vec\n",
    "        # batch_first = True: B x T x Vec\n",
    "        self.rnn = nn.RNN(emb_dim, hidden_dim, num_layers=3, batch_first=True, dropout=0.1) \n",
    "        self.clf = nn.Linear(hidden_dim, n_classes)\n",
    "        self.do = nn.Dropout(0.1)\n",
    "        self.hidden_dim = hidden_dim\n",
    "\n",
    "    def forward(self, x):\n",
    "        emb = self.word_emb(x)\n",
    "        hidden, _ = self.rnn(emb)\n",
    "\n",
    "        return self.clf(self.do(hidden))\n",
    "        "
   ]
  },
  {
   "cell_type": "code",
   "execution_count": 9,
   "metadata": {
    "ExecuteTime": {
     "end_time": "2023-03-12T13:49:14.142835Z",
     "start_time": "2023-03-12T13:49:14.138082Z"
    },
    "id": "K_PACmDaH8Z7"
   },
   "outputs": [
    {
     "data": {
      "text/plain": [
       "(165, 'batches')"
      ]
     },
     "execution_count": 9,
     "metadata": {},
     "output_type": "execute_result"
    }
   ],
   "source": [
    "#hyper params\n",
    "vocab_size = len(dataset.word_vocab) + 1\n",
    "n_classes = len(dataset.target_vocab) + 1\n",
    "n_chars = len(dataset.char_vocab) + 1\n",
    "#TODO try to use other model parameters\n",
    "emb_dim = 256\n",
    "hidden = 512\n",
    "n_epochs = 10\n",
    "batch_size = 128\n",
    "\n",
    "# cuda_device = -1\n",
    "# device = f'cuda:{cuda_device}' if cuda_device != -1 else 'cpu'\n",
    "device = 'mps'\n",
    "len(dataset) // batch_size, 'batches'"
   ]
  },
  {
   "cell_type": "code",
   "execution_count": 10,
   "metadata": {
    "ExecuteTime": {
     "end_time": "2023-03-12T13:49:14.303229Z",
     "start_time": "2023-03-12T13:49:14.145165Z"
    },
    "id": "a4gX5zVDIZdu"
   },
   "outputs": [],
   "source": [
    "model = RNNPredictor(vocab_size, emb_dim, hidden, n_classes).to(device)\n",
    "model.train()\n",
    "optim = torch.optim.Adam(model.parameters(), lr=0.001)\n",
    "loss_func = nn.CrossEntropyLoss()"
   ]
  },
  {
   "cell_type": "code",
   "execution_count": 11,
   "metadata": {
    "ExecuteTime": {
     "end_time": "2023-03-12T13:56:41.756851Z",
     "start_time": "2023-03-12T13:49:14.304266Z"
    }
   },
   "outputs": [
    {
     "name": "stdout",
     "output_type": "stream",
     "text": [
      "epoch: 0, step: 0, loss: 2.9697835445404053\n",
      "epoch: 0, step: 50, loss: 0.3920879364013672\n",
      "epoch: 0, step: 100, loss: 0.1905272901058197\n",
      "epoch: 0, step: 150, loss: 0.23137880861759186\n",
      "epoch: 0, final running loss: 0.3313199050950282\n",
      "----------------------------------------------------------------\n",
      "epoch: 1, step: 0, loss: 0.1871958076953888\n",
      "epoch: 1, step: 50, loss: 0.18598927557468414\n",
      "epoch: 1, step: 100, loss: 0.17706027626991272\n",
      "epoch: 1, step: 150, loss: 0.1457369178533554\n",
      "epoch: 1, final running loss: 0.16112508593183575\n",
      "----------------------------------------------------------------\n",
      "epoch: 2, step: 0, loss: 0.10315850377082825\n",
      "epoch: 2, step: 50, loss: 0.16173872351646423\n",
      "epoch: 2, step: 100, loss: 0.09664632380008698\n",
      "epoch: 2, step: 150, loss: 0.13409478962421417\n",
      "epoch: 2, final running loss: 0.12256829488006506\n",
      "----------------------------------------------------------------\n",
      "epoch: 3, step: 0, loss: 0.09604844450950623\n",
      "epoch: 3, step: 50, loss: 0.1097358837723732\n",
      "epoch: 3, step: 100, loss: 0.08788308501243591\n",
      "epoch: 3, step: 150, loss: 0.08436928689479828\n",
      "epoch: 3, final running loss: 0.0963335868761395\n",
      "----------------------------------------------------------------\n",
      "epoch: 4, step: 0, loss: 0.10418014228343964\n",
      "epoch: 4, step: 50, loss: 0.10916070640087128\n",
      "epoch: 4, step: 100, loss: 0.0804191455245018\n",
      "epoch: 4, step: 150, loss: 0.07756757736206055\n",
      "epoch: 4, final running loss: 0.08222083858016765\n",
      "----------------------------------------------------------------\n",
      "epoch: 5, step: 0, loss: 0.0951305404305458\n",
      "epoch: 5, step: 50, loss: 0.07189936935901642\n",
      "epoch: 5, step: 100, loss: 0.08161382377147675\n",
      "epoch: 5, step: 150, loss: 0.06563962996006012\n",
      "epoch: 5, final running loss: 0.06809725751253691\n",
      "----------------------------------------------------------------\n",
      "epoch: 6, step: 0, loss: 0.064292311668396\n",
      "epoch: 6, step: 50, loss: 0.06450694054365158\n",
      "epoch: 6, step: 100, loss: 0.05209248140454292\n",
      "epoch: 6, step: 150, loss: 0.0342368446290493\n",
      "epoch: 6, final running loss: 0.05765963443978266\n",
      "----------------------------------------------------------------\n",
      "epoch: 7, step: 0, loss: 0.0422542542219162\n",
      "epoch: 7, step: 50, loss: 0.03727354481816292\n",
      "epoch: 7, step: 100, loss: 0.04670742526650429\n",
      "epoch: 7, step: 150, loss: 0.03565002977848053\n",
      "epoch: 7, final running loss: 0.05156918192903201\n",
      "----------------------------------------------------------------\n",
      "epoch: 8, step: 0, loss: 0.042341701686382294\n",
      "epoch: 8, step: 50, loss: 0.042826782912015915\n",
      "epoch: 8, step: 100, loss: 0.04291267320513725\n",
      "epoch: 8, step: 150, loss: 0.06485891342163086\n",
      "epoch: 8, final running loss: 0.04443642945226395\n",
      "----------------------------------------------------------------\n",
      "epoch: 9, step: 0, loss: 0.031278062611818314\n",
      "epoch: 9, step: 50, loss: 0.043400269001722336\n",
      "epoch: 9, step: 100, loss: 0.0456666499376297\n",
      "epoch: 9, step: 150, loss: 0.03494124859571457\n",
      "epoch: 9, final running loss: 0.037955661959043055\n",
      "----------------------------------------------------------------\n"
     ]
    }
   ],
   "source": [
    "for epoch in range(n_epochs):\n",
    "    dataloader = DataLoader(dataset, \n",
    "                            batch_size, \n",
    "                            shuffle=True, \n",
    "                            collate_fn=collate_fn,\n",
    "                            drop_last = True,\n",
    "                            )\n",
    "    run_loss = 0.\n",
    "    for i, batch in enumerate(dataloader):\n",
    "        optim.zero_grad()\n",
    "\n",
    "        predict = model(batch['data'].to(device))\n",
    "        loss = loss_func(predict.view(-1, n_classes),\n",
    "                         batch['target'].to(device).view(-1), \n",
    "                         )\n",
    "        loss.backward()\n",
    "        optim.step()\n",
    "        run_loss += loss.item()\n",
    "        if i % 50 == 0:\n",
    "            print(f'epoch: {epoch}, step: {i}, loss: {loss.item()}')\n",
    "    print(f'epoch: {epoch}, final running loss: {run_loss / len(dataloader)}')\n",
    "    print('-' * 64)\n",
    "\n",
    "    torch.save(model.state_dict(), f'./rnn_chkpt_{epoch}.pth')"
   ]
  },
  {
   "cell_type": "code",
   "execution_count": 12,
   "metadata": {
    "ExecuteTime": {
     "end_time": "2023-03-12T13:56:41.833672Z",
     "start_time": "2023-03-12T13:56:41.758093Z"
    }
   },
   "outputs": [
    {
     "name": "stdout",
     "output_type": "stream",
     "text": [
      "['PRON', 'VERB', 'ADV', 'SCONJ', 'DET', 'ADJ', 'NOUN', 'CCONJ', 'VERB', 'PRON']\n"
     ]
    }
   ],
   "source": [
    "#example\n",
    "phrase = 'He ran quickly after the red bus and caught it'\n",
    "words = phrase.split(' ')\n",
    "tokens = [dataset.word_vocab[w] for w in words]\n",
    "\n",
    "start = datetime.datetime.now()\n",
    "with torch.no_grad():\n",
    "    model.eval()\n",
    "    predict = model(torch.tensor(tokens).unsqueeze(0).to(device)) # 1 x T x N_classes\n",
    "    labels = torch.argmax(predict, dim=-1).squeeze().cpu().detach().tolist()\n",
    "    end = datetime.datetime.now() - start\n",
    "\n",
    "target_labels = list(dataset.target_vocab.keys())\n",
    "print([target_labels[l-1] for l in labels])"
   ]
  },
  {
   "cell_type": "code",
   "execution_count": null,
   "metadata": {
    "id": "soes4kIU8FDq"
   },
   "outputs": [],
   "source": []
  }
 ],
 "metadata": {
  "accelerator": "GPU",
  "colab": {
   "provenance": []
  },
  "gpuClass": "standard",
  "kernelspec": {
   "display_name": "Python 3 (ipykernel)",
   "language": "python",
   "name": "python3"
  },
  "language_info": {
   "codemirror_mode": {
    "name": "ipython",
    "version": 3
   },
   "file_extension": ".py",
   "mimetype": "text/x-python",
   "name": "python",
   "nbconvert_exporter": "python",
   "pygments_lexer": "ipython3",
   "version": "3.9.13"
  },
  "varInspector": {
   "cols": {
    "lenName": 16,
    "lenType": 16,
    "lenVar": 40
   },
   "kernels_config": {
    "python": {
     "delete_cmd_postfix": "",
     "delete_cmd_prefix": "del ",
     "library": "var_list.py",
     "varRefreshCmd": "print(var_dic_list())"
    },
    "r": {
     "delete_cmd_postfix": ") ",
     "delete_cmd_prefix": "rm(",
     "library": "var_list.r",
     "varRefreshCmd": "cat(var_dic_list()) "
    }
   },
   "types_to_exclude": [
    "module",
    "function",
    "builtin_function_or_method",
    "instance",
    "_Feature"
   ],
   "window_display": false
  }
 },
 "nbformat": 4,
 "nbformat_minor": 1
}
