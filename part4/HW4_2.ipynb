{
  "cells": [
    {
      "cell_type": "markdown",
      "source": [
        "[![Open In Colab](https://colab.research.google.com/assets/colab-badge.svg)](https://colab.research.google.com/github/alexj-smolin/ds-school/blob/main/part4/HW4_2.ipynb)"
      ],
      "metadata": {
        "id": "3VZVHI59VNCM"
      }
    },
    {
      "cell_type": "code",
      "execution_count": 1,
      "metadata": {
        "ExecuteTime": {
          "end_time": "2023-03-12T14:32:38.071042Z",
          "start_time": "2023-03-12T14:32:37.679366Z"
        },
        "id": "in0PyicHhZDG"
      },
      "outputs": [],
      "source": [
        "import datetime\n",
        "\n",
        "import torch\n",
        "import torch.nn as nn\n",
        "from torch.utils.data import Dataset\n",
        "from torch.nn.utils.rnn import pad_sequence\n",
        "from torch.utils.data import DataLoader"
      ]
    },
    {
      "cell_type": "code",
      "execution_count": 2,
      "metadata": {
        "ExecuteTime": {
          "end_time": "2023-03-12T14:32:38.074178Z",
          "start_time": "2023-03-12T14:32:38.072499Z"
        },
        "id": "Os4tVkvmkTIp",
        "colab": {
          "base_uri": "https://localhost:8080/"
        },
        "outputId": "4a2378c3-1dab-42c4-dc8e-66e622bb46a5"
      },
      "outputs": [
        {
          "output_type": "stream",
          "name": "stdout",
          "text": [
            "Mounted at /content/drive\n"
          ]
        }
      ],
      "source": [
        "from google.colab import drive\n",
        "drive.mount('/content/drive')\n",
        "data_dir = '/content/drive/MyDrive/Sber_DS/NN/data/'\n",
        "\n",
        "# data_dir = './data/'\n",
        "\n",
        "train_lang = 'en'"
      ]
    },
    {
      "cell_type": "code",
      "execution_count": 3,
      "metadata": {
        "ExecuteTime": {
          "end_time": "2023-03-12T14:32:38.079974Z",
          "start_time": "2023-03-12T14:32:38.074904Z"
        },
        "id": "SI8UCZuy7hTK"
      },
      "outputs": [],
      "source": [
        "class DatasetSeq(Dataset):\n",
        "    def __init__(self, data_dir, train_lang='en'):\n",
        "        #open file\n",
        "        with open(data_dir + train_lang + '.train', 'r') as f:\n",
        "            train = f.read().split('\\n\\n')\n",
        "\n",
        "        # delete extra tag markup\n",
        "        train = [x for x in train if not '_ ' in x]\n",
        "        #init vocabs of tokens for encoding {<str> token: <int> id}\n",
        "        self.target_vocab = {} # {p: 1, a: 2, r: 3, pu: 4}\n",
        "        self.word_vocab = {} # {cat: 1, sat: 2, on: 3, mat: 4, '.': 5}\n",
        "        self.char_vocab = {} # {c: 1, a: 2, t: 3, ' ': 4, s: 5}\n",
        "\n",
        "        # Cat sat on mat. -> [1, 2, 3, 4, 5]\n",
        "        # p    a  r  p pu -> [1, 2, 3, 1, 4]\n",
        "        # chars  -> [1, 2, 3, 4, 5, 2, 3, 4]\n",
        "\n",
        "        #init encoded sequences lists (processed data)\n",
        "        self.encoded_sequences = []\n",
        "        self.encoded_targets = []\n",
        "        self.encoded_char_sequences = []\n",
        "        # n=1 because first value is padding\n",
        "        n_word = 1\n",
        "        n_target = 1\n",
        "        n_char = 1\n",
        "        for line in train:\n",
        "            sequence = []\n",
        "            target = []\n",
        "            chars = []\n",
        "            for item in line.split('\\n'):\n",
        "                if item != '':\n",
        "                    word, label = item.split(' ')\n",
        "\n",
        "                    if self.word_vocab.get(word) is None:\n",
        "                        self.word_vocab[word] = n_word\n",
        "                        n_word += 1\n",
        "                    if self.target_vocab.get(label) is None:\n",
        "                        self.target_vocab[label] = n_target\n",
        "                        n_target += 1\n",
        "                    for char in word:\n",
        "                        if self.char_vocab.get(char) is None:\n",
        "                            self.char_vocab[char] = n_char\n",
        "                            n_char += 1\n",
        "                    sequence.append(self.word_vocab[word])\n",
        "                    target.append(self.target_vocab[label])\n",
        "                    chars.append([self.char_vocab[char] for char in word])\n",
        "            self.encoded_sequences.append(sequence)\n",
        "            self.encoded_targets.append(target)\n",
        "            self.encoded_char_sequences.append(chars)\n",
        "\n",
        "    def __len__(self):\n",
        "        return len(self.encoded_sequences)\n",
        "\n",
        "    def __getitem__(self, index):\n",
        "        return {\n",
        "            'data': self.encoded_sequences[index], # [1, 2, 3, 4, 6] len=5\n",
        "            'char': self.encoded_char_sequences[index],# [[1,2,3], [4,5], [1,2], [2,6,5,4], []] len=5\n",
        "            'target': self.encoded_targets[index], #  (1)\n",
        "        }"
      ]
    },
    {
      "cell_type": "code",
      "execution_count": 4,
      "metadata": {
        "ExecuteTime": {
          "end_time": "2023-03-12T14:32:38.635897Z",
          "start_time": "2023-03-12T14:32:38.081247Z"
        },
        "id": "dhJuBtoz7f43"
      },
      "outputs": [],
      "source": [
        "dataset = DatasetSeq(data_dir)"
      ]
    },
    {
      "cell_type": "code",
      "execution_count": null,
      "metadata": {
        "ExecuteTime": {
          "end_time": "2023-03-12T14:32:38.639092Z",
          "start_time": "2023-03-12T14:32:38.637588Z"
        },
        "id": "0zXXXYP37gFL"
      },
      "outputs": [],
      "source": [
        "#padding\n",
        "# seq1 = [1, 2, 3, 4]\n",
        "# seq2 = [9, 7, 6, 4, 3, 7, 5]\n",
        "# pad seq1 equal seq2\n",
        "# seq1 = [1, 2, 3, 4, 0, 0, 0]\n",
        "# concat(seq1, seq2) [[1, 2, 3, 4, 0, 0, 0],\n",
        "#                     [9, 7, 6, 4, 3, 7, 5]]"
      ]
    },
    {
      "cell_type": "code",
      "execution_count": 5,
      "metadata": {
        "ExecuteTime": {
          "end_time": "2023-03-12T14:32:38.643871Z",
          "start_time": "2023-03-12T14:32:38.639844Z"
        },
        "id": "uPJauY4hAqJ6"
      },
      "outputs": [],
      "source": [
        "def collate_fn(input_data):\n",
        "    data = []\n",
        "    chars = []\n",
        "    targets = []\n",
        "    max_len = 0\n",
        "    for item in input_data:\n",
        "        if len(item['data']) > max_len:\n",
        "            max_len = len(item['data'])\n",
        "        data.append(torch.as_tensor(item['data']))\n",
        "        chars.append(item['char'])\n",
        "        targets.append(torch.as_tensor(item['target']))\n",
        "    chars_seq = [[torch.as_tensor([0]) for _ in range(len(input_data))] for _ in range(max_len)]\n",
        "    for j in range(len(input_data)):\n",
        "        for i in range(max_len):\n",
        "            if len(chars[j]) > i:\n",
        "                chars_seq[i][j] = torch.as_tensor(chars[j][i])\n",
        "    for j in range(max_len):\n",
        "        chars_seq[j] = pad_sequence(chars_seq[j], batch_first=True, padding_value=0)\n",
        "    data = pad_sequence(data, batch_first=True, padding_value=0)\n",
        "    targets = pad_sequence(targets, batch_first=True, padding_value=0)\n",
        "    return {'data': data, 'chars': chars_seq, 'target': targets}"
      ]
    },
    {
      "cell_type": "code",
      "execution_count": 6,
      "metadata": {
        "ExecuteTime": {
          "end_time": "2023-03-12T14:32:38.646969Z",
          "start_time": "2023-03-12T14:32:38.644722Z"
        },
        "id": "KTz2txO4LTZ3"
      },
      "outputs": [],
      "source": [
        "class CharRNN(nn.Module):\n",
        "    def __init__(self, vocab_size, emb_dim, hidden_dim):\n",
        "        super().__init__()\n",
        "        self.char_emb = nn.Embedding(vocab_size, emb_dim)\n",
        "        self.rnn = nn.GRU(emb_dim, hidden_dim, batch_first=True)\n",
        "\n",
        "    def forward(self, x):\n",
        "        emb = self.char_emb(x) # B x T x Emb_dim\n",
        "        _, out = self.rnn(emb)\n",
        "        # _: B x T x Hidden \n",
        "        # out: 1 x B x Hidden\n",
        "\n",
        "        return out.transpose(0, 1) # B x 1 x Hidden"
      ]
    },
    {
      "cell_type": "code",
      "execution_count": 7,
      "metadata": {
        "ExecuteTime": {
          "end_time": "2023-03-12T14:32:38.650961Z",
          "start_time": "2023-03-12T14:32:38.647719Z"
        },
        "id": "WBFZc1qY6HsC"
      },
      "outputs": [],
      "source": [
        "# Изменения:\n",
        "# * заменил GRU на LSTM с 3 скрытыми слоями + dropout\n",
        "# * увеличил размер hidden_dim и размер батча\n",
        "# * учил в colab (MPS не завелся на LSTM и GRU, хотя на RNN отработал успешно)\n",
        "# * качество после 10 эпох получилось сравнимым с обучением GRU\n",
        "\n",
        "class RNNPredictor(nn.Module):\n",
        "    def __init__(self, vocab_size, emb_dim, hidden_dim, n_classes,\n",
        "                 char_vocab, char_emb, char_hidden):\n",
        "        super().__init__()\n",
        "        #TODO try to use other RNN archicetures, f.e. RNN and LSTM\n",
        "        self.word_emb = nn.Embedding(vocab_size, emb_dim)\n",
        "        # batch_first = False: T x B x Vec\n",
        "        # batch_first = True: B x T x Vec\n",
        "        self.rnn = nn.LSTM(emb_dim + char_hidden, hidden_dim, num_layers=3, batch_first=True, dropout=0.2) \n",
        "        self.clf = nn.Linear(hidden_dim, n_classes)\n",
        "        self.do = nn.Dropout(0.1)\n",
        "        self.hidden_dim = hidden_dim\n",
        "        self.char_rnn = CharRNN(char_vocab, char_emb, char_hidden)\n",
        "\n",
        "    def forward(self, x, chars):\n",
        "        emb = self.word_emb(x)\n",
        "        char_features = [self.char_rnn(c.to(x.device)) for c in chars]\n",
        "        char_features = torch.cat(char_features, dim=1) # конкатенация по времени B x T x Char_hid\n",
        "        emb = torch.cat((emb, char_features), dim=-1) # конкатенация векторов\n",
        "        hidden, _ = self.rnn(emb)\n",
        "\n",
        "        return self.clf(self.do(hidden))"
      ]
    },
    {
      "cell_type": "code",
      "execution_count": 8,
      "metadata": {
        "ExecuteTime": {
          "end_time": "2023-03-12T14:32:38.656898Z",
          "start_time": "2023-03-12T14:32:38.651637Z"
        },
        "id": "K_PACmDaH8Z7",
        "colab": {
          "base_uri": "https://localhost:8080/"
        },
        "outputId": "eba4185c-ae9a-4eda-ecd4-94f4a7924a4d"
      },
      "outputs": [
        {
          "output_type": "execute_result",
          "data": {
            "text/plain": [
              "(165, 'batches')"
            ]
          },
          "metadata": {},
          "execution_count": 8
        }
      ],
      "source": [
        "#hyper params\n",
        "vocab_size = len(dataset.word_vocab) + 1\n",
        "n_classes = len(dataset.target_vocab) + 1\n",
        "n_chars = len(dataset.char_vocab) + 1\n",
        "#TODO try to use other model parameters\n",
        "emb_dim = 256\n",
        "hidden = 512\n",
        "char_hid = 64\n",
        "char_emb = 32\n",
        "n_epochs = 10\n",
        "batch_size = 128\n",
        "\n",
        "cuda_device = 0\n",
        "device = f'cuda:{cuda_device}' if cuda_device != -1 else 'cpu'\n",
        "len(dataset) // batch_size, 'batches'"
      ]
    },
    {
      "cell_type": "code",
      "execution_count": 9,
      "metadata": {
        "ExecuteTime": {
          "end_time": "2023-03-12T14:32:38.754507Z",
          "start_time": "2023-03-12T14:32:38.657917Z"
        },
        "id": "a4gX5zVDIZdu"
      },
      "outputs": [],
      "source": [
        "model = RNNPredictor(vocab_size, emb_dim, hidden, n_classes, n_chars, char_emb, char_hid).to(device)\n",
        "model.train()\n",
        "optim = torch.optim.Adam(model.parameters(), lr=0.001)\n",
        "loss_func = nn.CrossEntropyLoss()"
      ]
    },
    {
      "cell_type": "code",
      "execution_count": null,
      "metadata": {
        "id": "jVX0P0otIk4D"
      },
      "outputs": [],
      "source": []
    },
    {
      "cell_type": "code",
      "execution_count": 10,
      "metadata": {
        "ExecuteTime": {
          "start_time": "2023-03-12T14:32:37.675Z"
        },
        "colab": {
          "base_uri": "https://localhost:8080/"
        },
        "id": "aLPFwO9RUGyn",
        "outputId": "1efe44be-43ea-450c-be45-6bb88a3929ee"
      },
      "outputs": [
        {
          "output_type": "stream",
          "name": "stdout",
          "text": [
            "epoch: 0, step: 0, loss: 2.883932590484619\n",
            "epoch: 0, step: 50, loss: 0.5269796252250671\n",
            "epoch: 0, step: 100, loss: 0.37363097071647644\n",
            "epoch: 0, step: 150, loss: 0.20410653948783875\n",
            "epoch: 0, final running loss: 0.46648049693215976\n",
            "----------------------------------------------------------------\n",
            "epoch: 1, step: 0, loss: 0.1311924159526825\n",
            "epoch: 1, step: 50, loss: 0.20281831920146942\n",
            "epoch: 1, step: 100, loss: 0.17099326848983765\n",
            "epoch: 1, step: 150, loss: 0.13280440866947174\n",
            "epoch: 1, final running loss: 0.15037531281510988\n",
            "----------------------------------------------------------------\n",
            "epoch: 2, step: 0, loss: 0.13035571575164795\n",
            "epoch: 2, step: 50, loss: 0.08741016685962677\n",
            "epoch: 2, step: 100, loss: 0.08519506454467773\n",
            "epoch: 2, step: 150, loss: 0.09638082981109619\n",
            "epoch: 2, final running loss: 0.09519259095417731\n",
            "----------------------------------------------------------------\n",
            "epoch: 3, step: 0, loss: 0.07483738660812378\n",
            "epoch: 3, step: 50, loss: 0.10269781202077866\n",
            "epoch: 3, step: 100, loss: 0.07045690715312958\n",
            "epoch: 3, step: 150, loss: 0.07768125832080841\n",
            "epoch: 3, final running loss: 0.06888947387536366\n",
            "----------------------------------------------------------------\n",
            "epoch: 4, step: 0, loss: 0.05114210769534111\n",
            "epoch: 4, step: 50, loss: 0.057848744094371796\n",
            "epoch: 4, step: 100, loss: 0.030374186113476753\n",
            "epoch: 4, step: 150, loss: 0.0555221326649189\n",
            "epoch: 4, final running loss: 0.055927405574105006\n",
            "----------------------------------------------------------------\n",
            "epoch: 5, step: 0, loss: 0.05327707156538963\n",
            "epoch: 5, step: 50, loss: 0.054278019815683365\n",
            "epoch: 5, step: 100, loss: 0.04849149286746979\n",
            "epoch: 5, step: 150, loss: 0.03868966922163963\n",
            "epoch: 5, final running loss: 0.04746674662738135\n",
            "----------------------------------------------------------------\n",
            "epoch: 6, step: 0, loss: 0.026113493368029594\n",
            "epoch: 6, step: 50, loss: 0.039753202348947525\n",
            "epoch: 6, step: 100, loss: 0.04143716022372246\n",
            "epoch: 6, step: 150, loss: 0.051834795624017715\n",
            "epoch: 6, final running loss: 0.03929706933259061\n",
            "----------------------------------------------------------------\n",
            "epoch: 7, step: 0, loss: 0.026625754311680794\n",
            "epoch: 7, step: 50, loss: 0.030577529221773148\n",
            "epoch: 7, step: 100, loss: 0.03136861324310303\n",
            "epoch: 7, step: 150, loss: 0.050182241946458817\n",
            "epoch: 7, final running loss: 0.033409425001027004\n",
            "----------------------------------------------------------------\n",
            "epoch: 8, step: 0, loss: 0.03410033881664276\n",
            "epoch: 8, step: 50, loss: 0.030891383066773415\n",
            "epoch: 8, step: 100, loss: 0.031045543029904366\n",
            "epoch: 8, step: 150, loss: 0.03550809994339943\n",
            "epoch: 8, final running loss: 0.028589616975549497\n",
            "----------------------------------------------------------------\n",
            "epoch: 9, step: 0, loss: 0.023480713367462158\n",
            "epoch: 9, step: 50, loss: 0.018717411905527115\n",
            "epoch: 9, step: 100, loss: 0.02621716633439064\n",
            "epoch: 9, step: 150, loss: 0.015545671805739403\n",
            "epoch: 9, final running loss: 0.0242932929290515\n",
            "----------------------------------------------------------------\n"
          ]
        }
      ],
      "source": [
        "for epoch in range(n_epochs):\n",
        "    dataloader = DataLoader(dataset, \n",
        "                            batch_size, \n",
        "                            shuffle=True, \n",
        "                            collate_fn=collate_fn,\n",
        "                            drop_last = True,\n",
        "                            )\n",
        "    run_loss = 0.\n",
        "    for i, batch in enumerate(dataloader):\n",
        "        optim.zero_grad()\n",
        "\n",
        "        predict = model(batch['data'].to(device), batch['chars'])\n",
        "        loss = loss_func(predict.view(-1, n_classes),\n",
        "                         batch['target'].to(device).view(-1), \n",
        "                         )\n",
        "        loss.backward()\n",
        "        optim.step()\n",
        "        run_loss += loss.item()\n",
        "        if i % 50 == 0:\n",
        "            print(f'epoch: {epoch}, step: {i}, loss: {loss.item()}')\n",
        "    print(f'epoch: {epoch}, final running loss: {run_loss / len(dataloader)}')\n",
        "    print('-' * 64)\n",
        "   \n",
        "    torch.save(model.state_dict(), f'./rnn_chkpt_{epoch}.pth')"
      ]
    },
    {
      "cell_type": "code",
      "execution_count": 11,
      "metadata": {
        "colab": {
          "base_uri": "https://localhost:8080/"
        },
        "id": "r2f3MATJ8GKb",
        "outputId": "2dd84583-41b0-48b2-9d10-a9ff84c66c80"
      },
      "outputs": [
        {
          "output_type": "stream",
          "name": "stdout",
          "text": [
            "['PRON', 'VERB', 'ADV', 'SCONJ', 'DET', 'ADJ', 'NOUN', 'CCONJ', 'VERB', 'PRON']\n"
          ]
        }
      ],
      "source": [
        "#example\n",
        "#TODO modify inference for model with char input\n",
        "phrase = 'He ran quickly after the red bus and caught it'\n",
        "words = phrase.split(' ')\n",
        "tokens = [dataset.word_vocab[w] for w in words]\n",
        "chars = [torch.tensor([dataset.char_vocab[c] for c in w]).unsqueeze(0).to(device) for w in words]\n",
        "\n",
        "start = datetime.datetime.now()\n",
        "with torch.no_grad():\n",
        "    model.eval()\n",
        "    predict = model(torch.tensor(tokens).unsqueeze(0).to(device), chars) # 1 x T x N_classes\n",
        "    labels = torch.argmax(predict, dim=-1).squeeze().cpu().detach().tolist()\n",
        "    end = datetime.datetime.now() - start\n",
        "\n",
        "target_labels = list(dataset.target_vocab.keys())\n",
        "print([target_labels[l-1] for l in labels])"
      ]
    },
    {
      "cell_type": "code",
      "execution_count": 25,
      "metadata": {
        "colab": {
          "base_uri": "https://localhost:8080/"
        },
        "id": "9CljFAzIMMEW",
        "outputId": "a9e7815d-07e3-47e3-ee44-ebf2a6061001"
      },
      "outputs": [
        {
          "output_type": "stream",
          "name": "stdout",
          "text": [
            "['DET', 'PRON', 'NOUN', 'ADP', 'NOUN', 'VERB', 'ADP', 'ADJ']\n"
          ]
        }
      ],
      "source": [
        "#second example\n",
        "phrase = 'All her invitations without exception written in French'\n",
        "words = phrase.split(' ')\n",
        "tokens = [dataset.word_vocab[w] for w in words]\n",
        "chars = [torch.tensor([dataset.char_vocab[c] for c in w]).unsqueeze(0).to(device) for w in words]\n",
        "\n",
        "start = datetime.datetime.now()\n",
        "with torch.no_grad():\n",
        "    model.eval()\n",
        "    predict = model(torch.tensor(tokens).unsqueeze(0).to(device), chars) # 1 x T x N_classes\n",
        "    labels = torch.argmax(predict, dim=-1).squeeze().cpu().detach().tolist()\n",
        "    end = datetime.datetime.now() - start\n",
        "\n",
        "target_labels = list(dataset.target_vocab.keys())\n",
        "print([target_labels[l-1] for l in labels])"
      ]
    },
    {
      "cell_type": "code",
      "execution_count": null,
      "metadata": {
        "id": "9PbgCjN48FRe"
      },
      "outputs": [],
      "source": []
    }
  ],
  "metadata": {
    "accelerator": "GPU",
    "colab": {
      "provenance": []
    },
    "gpuClass": "standard",
    "kernelspec": {
      "display_name": "Python 3 (ipykernel)",
      "language": "python",
      "name": "python3"
    },
    "language_info": {
      "codemirror_mode": {
        "name": "ipython",
        "version": 3
      },
      "file_extension": ".py",
      "mimetype": "text/x-python",
      "name": "python",
      "nbconvert_exporter": "python",
      "pygments_lexer": "ipython3",
      "version": "3.9.13"
    },
    "varInspector": {
      "cols": {
        "lenName": 16,
        "lenType": 16,
        "lenVar": 40
      },
      "kernels_config": {
        "python": {
          "delete_cmd_postfix": "",
          "delete_cmd_prefix": "del ",
          "library": "var_list.py",
          "varRefreshCmd": "print(var_dic_list())"
        },
        "r": {
          "delete_cmd_postfix": ") ",
          "delete_cmd_prefix": "rm(",
          "library": "var_list.r",
          "varRefreshCmd": "cat(var_dic_list()) "
        }
      },
      "types_to_exclude": [
        "module",
        "function",
        "builtin_function_or_method",
        "instance",
        "_Feature"
      ],
      "window_display": false
    }
  },
  "nbformat": 4,
  "nbformat_minor": 0
}