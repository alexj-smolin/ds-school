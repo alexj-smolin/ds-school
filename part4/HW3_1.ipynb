{
 "cells": [
  {
   "cell_type": "markdown",
   "metadata": {
    "ExecuteTime": {
     "end_time": "2023-03-06T13:30:22.368518Z",
     "start_time": "2023-03-06T13:30:22.357686Z"
    },
    "id": "Nq-y9Pf7H1OW"
   },
   "source": [
    "[![Open In Colab](https://colab.research.google.com/assets/colab-badge.svg)](https://colab.research.google.com/github/alexj-smolin/ds-school/blob/main/part4/HW3_1.ipynb)"
   ]
  },
  {
   "cell_type": "code",
   "execution_count": 1,
   "metadata": {
    "ExecuteTime": {
     "end_time": "2023-03-06T12:20:47.715024Z",
     "start_time": "2023-03-06T12:20:47.087200Z"
    },
    "id": "in0PyicHhZDG"
   },
   "outputs": [],
   "source": [
    "import matplotlib.pyplot as plt\n",
    "import numpy\n",
    "import torch\n",
    "import torch.nn as nn\n",
    "import torchvision.models as models\n",
    "from torchvision import datasets, transforms\n",
    "from torch.utils.data import DataLoader"
   ]
  },
  {
   "cell_type": "code",
   "execution_count": 22,
   "metadata": {
    "ExecuteTime": {
     "end_time": "2023-03-06T12:20:48.536863Z",
     "start_time": "2023-03-06T12:20:48.533391Z"
    },
    "id": "73ieMA485Tme"
   },
   "outputs": [],
   "source": [
    "# hyperparams\n",
    "inp_dim = 28 * 28\n",
    "#try to use other model params. check overfitting with large models\n",
    "hidden = 1000\n",
    "out_dim = 60\n",
    "device_id = 0\n",
    "device = 'cpu' if device_id == -1 else f'cuda:{device_id}'\n",
    "n_epochs = 3\n",
    "batch_size = 128"
   ]
  },
  {
   "cell_type": "code",
   "execution_count": 23,
   "metadata": {
    "ExecuteTime": {
     "end_time": "2023-03-06T12:20:49.695495Z",
     "start_time": "2023-03-06T12:20:49.651438Z"
    },
    "id": "SI8UCZuy7hTK"
   },
   "outputs": [],
   "source": [
    "transform = transforms.Compose(\n",
    "    [transforms.ToTensor(),\n",
    "     transforms.Normalize((0.5), (0.5)),\n",
    "     ])\n",
    "\n",
    "\n",
    "dataset_train = datasets.MNIST('.', \n",
    "                               train=True,            \n",
    "                               download=True, \n",
    "                               transform=transform)\n",
    "trainloader = torch.utils.data.DataLoader(dataset_train, \n",
    "                                          batch_size=batch_size,\n",
    "                                          shuffle=True, \n",
    "                                          num_workers=2, \n",
    "                                          drop_last = True,)\n",
    "\n",
    "dataset_test = datasets.MNIST('.', \n",
    "                              train=False,\n",
    "                              download=True, \n",
    "                              transform=transform)\n",
    "testloader = torch.utils.data.DataLoader(dataset_train, \n",
    "                                          batch_size=batch_size,\n",
    "                                          shuffle=True, \n",
    "                                          num_workers=2, \n",
    "                                          drop_last = True,)"
   ]
  },
  {
   "cell_type": "code",
   "execution_count": null,
   "metadata": {
    "id": "uPJauY4hAqJ6"
   },
   "outputs": [],
   "source": []
  },
  {
   "cell_type": "code",
   "execution_count": 24,
   "metadata": {
    "ExecuteTime": {
     "end_time": "2023-03-06T12:20:51.107746Z",
     "start_time": "2023-03-06T12:20:51.096772Z"
    },
    "id": "RNZNDVmnH1Ob"
   },
   "outputs": [],
   "source": [
    "def show_img(im_true, im_pred):\n",
    "    _, ax = plt.subplots(1, 2, figsize=(8, 4))\n",
    "    ax[0].imshow(im_true)\n",
    "    ax[0].set_axis_off()\n",
    "    ax[1].imshow(im_pred)\n",
    "    ax[1].set_axis_off()\n",
    "    plt.show()"
   ]
  },
  {
   "cell_type": "code",
   "execution_count": 25,
   "metadata": {
    "ExecuteTime": {
     "end_time": "2023-03-06T12:32:05.226524Z",
     "start_time": "2023-03-06T12:32:05.209382Z"
    },
    "id": "KTz2txO4LTZ3"
   },
   "outputs": [],
   "source": [
    "# Changes:\n",
    "# * увеличил размер скрытого слоя до 1000\n",
    "# * добавил по 1 линейному слою к энкодеру и декодеру\n",
    "# * заменил активацию relu на leakyRelu\n",
    "# * заменил loss-функцию на MAE\n",
    "\n",
    "class Encoder(nn.Module):\n",
    "  #28*28 -> hidden -> hidden_out\n",
    "  def __init__(self, input_dim, hidden_dim, out_dim):\n",
    "    super().__init__()\n",
    "    #TODO try to use other layers\n",
    "    self.linear1 = nn.Linear(input_dim, hidden_dim)\n",
    "    self.do1 = nn.Dropout(0.1)\n",
    "    self.linear2 = nn.Linear(hidden_dim, hidden_dim)\n",
    "    self.linear3 = nn.Linear(hidden_dim, out_dim)\n",
    "    self.act = nn.LeakyReLU()\n",
    "\n",
    "  def forward(self, x):\n",
    "    x = self.act(self.do1(self.linear1(x)))\n",
    "    x = self.act(self.linear2(x))\n",
    "    return self.linear3(x)\n",
    "\n",
    "class Decoder(nn.Module):\n",
    "  #hidden_out-> hidden -> 28*28 \n",
    "  def __init__(self, input_dim, hidden_dim, out_dim):\n",
    "    super().__init__()\n",
    "    #TODO try to use other layers\n",
    "    self.linear1 = nn.Linear(input_dim, hidden_dim)\n",
    "    self.do1 = nn.Dropout(0.1)\n",
    "    self.linear2 = nn.Linear(hidden_dim, hidden_dim)\n",
    "    self.linear3 = nn.Linear(hidden_dim, out_dim)\n",
    "    self.act = nn.LeakyReLU()\n",
    "\n",
    "  def forward(self, x):\n",
    "    x = self.act(self.do1(self.linear1(x)))\n",
    "    x = self.act(self.linear2(x))\n",
    "    return self.linear3(x)\n",
    "\n",
    "class LinearAutoEncoder(nn.Module):\n",
    "  def __init__(self, input_dim, hidden_dim, out_dim):\n",
    "    super().__init__()\n",
    "    self.encoder = Encoder(input_dim, hidden_dim, out_dim)\n",
    "    self.decoder = Decoder(out_dim, hidden_dim, input_dim)\n",
    "\n",
    "  def forward(self, x):\n",
    "    hidden = self.encoder(x)\n",
    "    x_ = self.decoder(hidden)\n",
    "\n",
    "    return x_\n"
   ]
  },
  {
   "cell_type": "code",
   "execution_count": 11,
   "metadata": {
    "ExecuteTime": {
     "end_time": "2023-03-06T12:32:06.364741Z",
     "start_time": "2023-03-06T12:32:06.310277Z"
    },
    "id": "_fdZfq9C9zO2"
   },
   "outputs": [],
   "source": [
    "model = LinearAutoEncoder(inp_dim, hidden, out_dim).to(device)\n",
    "optim = torch.optim.Adam(model.parameters())\n",
    "loss_func = nn.L1Loss() #TODO try to use MAE\n"
   ]
  },
  {
   "cell_type": "code",
   "execution_count": 12,
   "metadata": {
    "ExecuteTime": {
     "end_time": "2023-03-06T12:32:31.073995Z",
     "start_time": "2023-03-06T12:32:07.082367Z"
    },
    "colab": {
     "base_uri": "https://localhost:8080/",
     "height": 829
    },
    "id": "4p52DhoFBYTr",
    "outputId": "eb140243-734d-4283-9b11-a95257beffb6",
    "scrolled": false
   },
   "outputs": [
    {
     "output_type": "stream",
     "name": "stdout",
     "text": [
      "epoch: 0, step: 0, loss: 0.9440214037895203\n",
      "epoch: 0, step: 200, loss: 0.2221745401620865\n",
      "epoch: 0, step: 400, loss: 0.16690051555633545\n"
     ]
    },
    {
     "output_type": "display_data",
     "data": {
      "text/plain": [
       "<Figure size 576x288 with 2 Axes>"
      ],
      "image/png": "[encoded data removed]"
     },
     "metadata": {
      "needs_background": "light"
     }
    },
    {
     "output_type": "stream",
     "name": "stdout",
     "text": [
      "epoch: 1, step: 0, loss: 0.1679367870092392\n",
      "epoch: 1, step: 200, loss: 0.13848444819450378\n",
      "epoch: 1, step: 400, loss: 0.13596108555793762\n"
     ]
    },
    {
     "output_type": "display_data",
     "data": {
      "text/plain": [
       "<Figure size 576x288 with 2 Axes>"
      ],
      "image/png": "[encoded data removed]"
     },
     "metadata": {
      "needs_background": "light"
     }
    },
    {
     "output_type": "stream",
     "name": "stdout",
     "text": [
      "epoch: 2, step: 0, loss: 0.13407467305660248\n",
      "epoch: 2, step: 200, loss: 0.12072227895259857\n",
      "epoch: 2, step: 400, loss: 0.11795506626367569\n"
     ]
    },
    {
     "output_type": "display_data",
     "data": {
      "text/plain": [
       "<Figure size 576x288 with 2 Axes>"
      ],
      "image/png": "[encoded data removed]"
     },
     "metadata": {
      "needs_background": "light"
     }
    }
   ],
   "source": [
    "# hidden_out = 40\n",
    "for epoch in range(n_epochs):\n",
    "    for i, batch in enumerate(trainloader):\n",
    "        inputs, labels = batch\n",
    "        optim.zero_grad()\n",
    "        target = inputs.view(inputs.size(0), -1).to(device)\n",
    "        predict = model(target)\n",
    "        loss = loss_func(target, predict)\n",
    "        loss.backward()\n",
    "        optim.step()\n",
    "        if i % 200 == 0:\n",
    "            print(f'epoch: {epoch}, step: {i}, loss: {loss.item()}')\n",
    "    item = dataset_test.data[555].unsqueeze(0).view(1, -1).to(device).float()\n",
    "    show_img(\n",
    "        dataset_test.data[555].detach().numpy(),\n",
    "        model(item).view((28, 28)).cpu().detach().numpy()\n",
    "    )\n",
    "    torch.save(model.state_dict(), f'./lin_ae_chkpt_{epoch}.pth')\n"
   ]
  },
  {
   "cell_type": "code",
   "execution_count": 26,
   "metadata": {
    "ExecuteTime": {
     "end_time": "2023-03-06T12:25:41.785102Z",
     "start_time": "2023-03-06T12:25:41.778091Z"
    },
    "id": "S2dg_Zq4e7gY"
   },
   "outputs": [],
   "source": [
    "input_channels = 1\n",
    "hidden_channels = 64"
   ]
  },
  {
   "cell_type": "code",
   "execution_count": 27,
   "metadata": {
    "ExecuteTime": {
     "end_time": "2023-03-06T13:24:21.320353Z",
     "start_time": "2023-03-06T13:24:21.300512Z"
    },
    "id": "9CljFAzIMMEW"
   },
   "outputs": [],
   "source": [
    "# Changes:\n",
    "# * в encoder заменил conv2 + pool2 на сверточный слой со сжатием фичмапы в 2 раза\n",
    "# * в decoder заменил conv2 + upsample на сверточный слой ConvTranspose2d с разжатием фичмапы в 2 раза\n",
    "# * во все внутренние слои добавил batchNorm\n",
    "# * убрал dropout (вроде как не советуют делать dropout в сверточных сетях)\n",
    "# * поменял порядок применения conv и upsample\n",
    "# * заменил MSE на MAE\n",
    "\n",
    "class ConvEncoder(nn.Module):\n",
    "  #28x28 -> hidden -> hidden_out\n",
    "  def __init__(self, input_ch, hidden_ch):\n",
    "    super().__init__()\n",
    "    #TODO try to use other layers\n",
    "    self.conv1 = nn.Conv2d(input_ch, hidden_ch, kernel_size=5, stride=1, \n",
    "                           padding=2)\n",
    "    self.pool1 = nn.MaxPool2d((2, 2)) # 14 x 14\n",
    "    self.bn1 = nn.BatchNorm2d(hidden_ch)\n",
    "\n",
    "    self.conv2 = nn.Conv2d(hidden_ch, hidden_ch, kernel_size=4, stride=2, \n",
    "                           padding=1) # 7 x 7\n",
    "    self.bn2 = nn.BatchNorm2d(hidden_ch)\n",
    "\n",
    "    self.conv3 = nn.Conv2d(hidden_ch, 1, kernel_size=3, stride=1, \n",
    "                           padding=1)\n",
    "    self.activ = nn.LeakyReLU()\n",
    "\n",
    "  def forward(self, x):\n",
    "    x = self.bn1(self.pool1(self.activ(self.conv1(x))))\n",
    "    x = self.bn2(self.activ(self.conv2(x)))\n",
    "    return self.conv3(x)\n",
    "\n",
    "class ConvDecoder(nn.Module):\n",
    "  #hidden_out-> hidden -> 28*28 \n",
    "  def __init__(self, input_ch, hidden_ch, ):\n",
    "    super().__init__()\n",
    "    #TODO try to use other layers\n",
    "    self.conv1 = nn.Conv2d(1, hidden_ch, kernel_size=3, stride=1, \n",
    "                           padding=1)\n",
    "    self.bn1 = nn.BatchNorm2d(hidden_ch)\n",
    "\n",
    "    self.conv2 = nn.ConvTranspose2d(hidden_ch, hidden_ch, kernel_size=4,\n",
    "                                   stride=2, padding=1) # 14 x 14\n",
    "    self.bn2 = nn.BatchNorm2d(hidden_ch)\n",
    "\n",
    "    self.upsample3 = nn.UpsamplingNearest2d(scale_factor=2) # 28 x 28\n",
    "    self.conv3 = nn.Conv2d(hidden_ch, input_ch, kernel_size=5, stride=1, \n",
    "                           padding=2)\n",
    "    self.activ = nn.LeakyReLU()\n",
    "\n",
    "  def forward(self, x):\n",
    "    x = self.bn1(self.activ(self.conv1(x)))\n",
    "    x = self.bn2(self.activ(self.conv2(x)))\n",
    "    return self.conv3(self.upsample3(x))\n",
    "\n",
    "class ConvAutoEncoder(nn.Module):\n",
    "  def __init__(self, input_ch, hidden_ch, ):\n",
    "    super().__init__()\n",
    "    self.encoder = ConvEncoder(input_ch, hidden_ch, )\n",
    "    self.decoder = ConvDecoder(input_ch, hidden_ch, )\n",
    "\n",
    "  def forward(self, x):\n",
    "    hidden = self.encoder(x)\n",
    "    x_ = self.decoder(hidden)\n",
    "\n",
    "    return x_\n"
   ]
  },
  {
   "cell_type": "code",
   "execution_count": 28,
   "metadata": {
    "ExecuteTime": {
     "end_time": "2023-03-06T13:24:22.682983Z",
     "start_time": "2023-03-06T13:24:22.650351Z"
    },
    "id": "ARAK5EjZe3Ju"
   },
   "outputs": [],
   "source": [
    "model = ConvAutoEncoder(input_channels, hidden_channels).to(device)\n",
    "optim = torch.optim.Adam(model.parameters())\n",
    "loss_func = nn.L1Loss() #TODO try to use MAE\n"
   ]
  },
  {
   "cell_type": "code",
   "execution_count": 29,
   "metadata": {
    "ExecuteTime": {
     "end_time": "2023-03-06T13:25:21.723395Z",
     "start_time": "2023-03-06T13:24:28.703581Z"
    },
    "id": "-ksEymRZH1Oe",
    "outputId": "84618b2e-7113-4ddb-9133-56867b7debd1",
    "colab": {
     "base_uri": "https://localhost:8080/",
     "height": 829
    }
   },
   "outputs": [
    {
     "output_type": "stream",
     "name": "stdout",
     "text": [
      "epoch: 0, step: 0, loss: 0.9307725429534912\n",
      "epoch: 0, step: 200, loss: 0.13327307999134064\n",
      "epoch: 0, step: 400, loss: 0.1185569316148758\n"
     ]
    },
    {
     "output_type": "display_data",
     "data": {
      "text/plain": [
       "<Figure size 576x288 with 2 Axes>"
      ],
      "image/png": "[encoded data removed]"
     },
     "metadata": {
      "needs_background": "light"
     }
    },
    {
     "output_type": "stream",
     "name": "stdout",
     "text": [
      "epoch: 1, step: 0, loss: 0.11039601266384125\n",
      "epoch: 1, step: 200, loss: 0.10552534461021423\n",
      "epoch: 1, step: 400, loss: 0.09809748083353043\n"
     ]
    },
    {
     "output_type": "display_data",
     "data": {
      "text/plain": [
       "<Figure size 576x288 with 2 Axes>"
      ],
      "image/png": "[encoded data removed]"
     },
     "metadata": {
      "needs_background": "light"
     }
    },
    {
     "output_type": "stream",
     "name": "stdout",
     "text": [
      "epoch: 2, step: 0, loss: 0.09949778020381927\n",
      "epoch: 2, step: 200, loss: 0.08989826589822769\n",
      "epoch: 2, step: 400, loss: 0.08560317009687424\n"
     ]
    },
    {
     "output_type": "display_data",
     "data": {
      "text/plain": [
       "<Figure size 576x288 with 2 Axes>"
      ],
      "image/png": "[encoded data removed]"
     },
     "metadata": {
      "needs_background": "light"
     }
    }
   ],
   "source": [
    "for epoch in range(n_epochs):\n",
    "    for i, batch in enumerate(trainloader):\n",
    "        inputs, labels = batch\n",
    "        optim.zero_grad()\n",
    "\n",
    "        predict = model(inputs.to(device))\n",
    "        loss = loss_func(inputs.to(device), predict)\n",
    "        loss.backward()\n",
    "        optim.step()\n",
    "        if i % 200 == 0:\n",
    "            print(f'epoch: {epoch}, step: {i}, loss: {loss.item()}')\n",
    "    item = dataset_test[555][0].unsqueeze(0).to(device).float()\n",
    "    show_img(\n",
    "        dataset_test[555][0].squeeze().detach().numpy(),\n",
    "        model(item).squeeze().squeeze().cpu().detach().numpy()\n",
    "    )\n",
    "    torch.save(model.state_dict(), f'./lin_ae_chkpt_{epoch}.pth')"
   ]
  },
  {
   "cell_type": "code",
   "execution_count": 30,
   "metadata": {
    "ExecuteTime": {
     "end_time": "2023-03-06T13:28:09.952100Z",
     "start_time": "2023-03-06T13:26:09.267711Z"
    },
    "colab": {
     "base_uri": "https://localhost:8080/",
     "height": 829
    },
    "id": "Krp05-y4e3hl",
    "outputId": "277b848d-9164-4f58-b0e2-6b4369fa778a"
   },
   "outputs": [
    {
     "output_type": "stream",
     "name": "stdout",
     "text": [
      "epoch: 0, step: 0, loss: 0.9597145318984985\n",
      "epoch: 0, step: 200, loss: 0.14228211343288422\n",
      "epoch: 0, step: 400, loss: 0.131911501288414\n"
     ]
    },
    {
     "output_type": "display_data",
     "data": {
      "text/plain": [
       "<Figure size 576x288 with 2 Axes>"
      ],
      "image/png": "[encoded data removed]"
     },
     "metadata": {
      "needs_background": "light"
     }
    },
    {
     "output_type": "stream",
     "name": "stdout",
     "text": [
      "epoch: 1, step: 0, loss: 0.13612985610961914\n",
      "epoch: 1, step: 200, loss: 0.11161461472511292\n",
      "epoch: 1, step: 400, loss: 0.1108705997467041\n"
     ]
    },
    {
     "output_type": "display_data",
     "data": {
      "text/plain": [
       "<Figure size 576x288 with 2 Axes>"
      ],
      "image/png": "[encoded data removed]"
     },
     "metadata": {
      "needs_background": "light"
     }
    },
    {
     "output_type": "stream",
     "name": "stdout",
     "text": [
      "epoch: 2, step: 0, loss: 0.10971582680940628\n",
      "epoch: 2, step: 200, loss: 0.09841583669185638\n",
      "epoch: 2, step: 400, loss: 0.1111784279346466\n"
     ]
    },
    {
     "output_type": "display_data",
     "data": {
      "text/plain": [
       "<Figure size 576x288 with 2 Axes>"
      ],
      "image/png": "[encoded data removed]"
     },
     "metadata": {
      "needs_background": "light"
     }
    }
   ],
   "source": [
    "model = ConvAutoEncoder(input_channels, hidden_channels).to(device)\n",
    "optim = torch.optim.Adam(model.parameters())\n",
    "loss_func = nn.L1Loss() #TODO try to use MAE\n",
    "\n",
    "for epoch in range(n_epochs):\n",
    "    for i, batch in enumerate(trainloader):\n",
    "        inputs, labels = batch\n",
    "        optim.zero_grad()\n",
    "        inputs = inputs.to(device)\n",
    "        noise_inputs = inputs + \\\n",
    "        torch.normal(torch.zeros_like(inputs), torch.ones_like(inputs)) * 0.7 \n",
    "        predict = model(noise_inputs)\n",
    "        loss = loss_func(inputs, predict)\n",
    "        loss.backward()\n",
    "        optim.step()\n",
    "        if i % 200 == 0:\n",
    "            print(f'epoch: {epoch}, step: {i}, loss: {loss.item()}')\n",
    "    item = dataset_test[555][0].unsqueeze(0).to(device).float()\n",
    "    item = item + torch.normal(torch.zeros_like(item), torch.ones_like(item)) * 0.7\n",
    "    show_img(\n",
    "        item.squeeze().squeeze().cpu().detach().numpy(),\n",
    "        model(item).squeeze().squeeze().cpu().detach().numpy()\n",
    "    )\n",
    "    torch.save(model.state_dict(), f'./lin_ae_chkpt_{epoch}.pth')"
   ]
  },
  {
   "cell_type": "code",
   "execution_count": 31,
   "metadata": {
    "id": "BkTVkKl1hkYn"
   },
   "outputs": [],
   "source": [
    "# Changes:\n",
    "# * удалил dropOut\n",
    "# * заменил активацию на leakyRelu\n",
    "# * добавил batchNorm\n",
    "# * в encoder заменил слой conv+pool на conv с уменьшением размера в 2 раза\n",
    "# * в decoder заменил слой conv+upsample на convTranspose2d с увеличением размера в 2 раза\n",
    "\n",
    "class ConvVAEncoder(nn.Module):\n",
    "  #28*28 -> hidden -> hidden_out\n",
    "  def __init__(self, input_ch, hidden_ch):\n",
    "    super().__init__()\n",
    "    #TODO try to use other layers\n",
    "    self.conv1 = nn.Conv2d(input_ch, hidden_ch, kernel_size=5, stride=1, \n",
    "                           padding=2) # 28x28\n",
    "    self.pool1 = nn.MaxPool2d(2, 2) # 14x14\n",
    "    self.bn1 = nn.BatchNorm2d(hidden_ch)\n",
    "\n",
    "    self.conv2 = nn.Conv2d(hidden_ch, hidden_ch, kernel_size=4, stride=2, \n",
    "                           padding=1) # 7x7\n",
    "    self.bn2 = nn.BatchNorm2d(hidden_ch)\n",
    "\n",
    "    self.conv3_mu = nn.Conv2d(hidden_ch, 1, kernel_size=3, stride=1, \n",
    "                           padding=1) # 7x7\n",
    "    self.conv3_sigma = nn.Conv2d(hidden_ch, 1, kernel_size=3, stride=1, \n",
    "                           padding=1) # 7x7\n",
    "    self.activ = nn.LeakyReLU()\n",
    "\n",
    "  def forward(self, x):\n",
    "    x = self.bn1(self.pool1(self.activ(self.conv1(x))))\n",
    "    x = self.bn2(self.activ(self.conv2(x)))\n",
    "    mu = self.conv3_mu(x)\n",
    "    sigma = torch.exp(self.conv3_sigma(x))\n",
    "\n",
    "    return mu, sigma\n",
    "\n",
    "class ConvDecoder(nn.Module):\n",
    "  #hidden_out-> hidden -> 28*28 \n",
    "  def __init__(self, input_ch, hidden_ch, ):\n",
    "    super().__init__()\n",
    "    #TODO try to use other layers\n",
    "    self.conv1 = nn.Conv2d(1, hidden_ch, kernel_size=3, stride=1, \n",
    "                           padding=1) # 7x7\n",
    "    self.bn1 = nn.BatchNorm2d(hidden_ch)\n",
    "\n",
    "    self.conv2 = nn.ConvTranspose2d(hidden_ch, hidden_ch, kernel_size=4, stride=2, \n",
    "                           padding=1) # 14x14\n",
    "    self.bn2 = nn.BatchNorm2d(hidden_ch)\n",
    "\n",
    "    self.upsample3 = nn.UpsamplingNearest2d(scale_factor=2) # 28x28\n",
    "    self.conv3 = nn.Conv2d(hidden_ch, input_ch, kernel_size=5, stride=1, \n",
    "                           padding=2) # 28x28\n",
    "    self.activ = nn.LeakyReLU()\n",
    "  def forward(self, x):\n",
    "    x = self.bn1(self.activ(self.conv1(x)))\n",
    "    x = self.bn2(self.activ(self.conv2(x)))\n",
    "    x = self.conv3(self.upsample3(x))\n",
    "\n",
    "    return x\n",
    "\n",
    "def sampling(mu, sigma):\n",
    "    return torch.normal(torch.zeros_like(mu), torch.ones_like(mu)) * sigma + mu\n",
    "\n",
    "class ConvVAE(nn.Module):\n",
    "  def __init__(self, input_ch, hidden_ch, ):\n",
    "    super().__init__()\n",
    "    self.encoder = ConvVAEncoder(input_ch, hidden_ch, )\n",
    "    self.decoder = ConvDecoder(input_ch, hidden_ch, )\n",
    "\n",
    "  def forward(self, x):\n",
    "    mu, sigma = self.encoder(x)\n",
    "    hidden = sampling(mu, sigma)\n",
    "    x_ = self.decoder(hidden)\n",
    "\n",
    "    return x_, mu, sigma"
   ]
  },
  {
   "cell_type": "code",
   "execution_count": 35,
   "metadata": {
    "colab": {
     "base_uri": "https://localhost:8080/",
     "height": 829
    },
    "id": "zC_TvIhon6n4",
    "outputId": "4c63e70c-cf0d-490c-c0c4-551abf8a5622"
   },
   "outputs": [
    {
     "output_type": "stream",
     "name": "stdout",
     "text": [
      "epoch: 0, step: 0, loss: 0.9688360691070557\n",
      "epoch: 0, step: 200, loss: 0.14967019855976105\n",
      "epoch: 0, step: 400, loss: 0.1354934424161911\n"
     ]
    },
    {
     "output_type": "display_data",
     "data": {
      "text/plain": [
       "<Figure size 576x288 with 2 Axes>"
      ],
      "image/png": "[encoded data removed]"
     },
     "metadata": {
      "needs_background": "light"
     }
    },
    {
     "output_type": "stream",
     "name": "stdout",
     "text": [
      "epoch: 1, step: 0, loss: 0.12394426017999649\n",
      "epoch: 1, step: 200, loss: 0.12707608938217163\n",
      "epoch: 1, step: 400, loss: 0.10963523387908936\n"
     ]
    },
    {
     "output_type": "display_data",
     "data": {
      "text/plain": [
       "<Figure size 576x288 with 2 Axes>"
      ],
      "image/png": "[encoded data removed]"
     },
     "metadata": {
      "needs_background": "light"
     }
    },
    {
     "output_type": "stream",
     "name": "stdout",
     "text": [
      "epoch: 2, step: 0, loss: 0.11591149866580963\n",
      "epoch: 2, step: 200, loss: 0.11319278180599213\n",
      "epoch: 2, step: 400, loss: 0.10962826758623123\n"
     ]
    },
    {
     "output_type": "display_data",
     "data": {
      "text/plain": [
       "<Figure size 576x288 with 2 Axes>"
      ],
      "image/png": "[encoded data removed]"
     },
     "metadata": {
      "needs_background": "light"
     }
    }
   ],
   "source": [
    "def kl_loss(mu, sigma):\n",
    "    p = torch.distributions.Normal(mu, sigma)\n",
    "    q = torch.distributions.Normal(torch.zeros_like(mu), torch.ones_like(mu))\n",
    "    return torch.distributions.kl_divergence(p, q).mean()\n",
    "\n",
    "model = ConvVAE(input_channels, hidden_channels).to(device)\n",
    "optim = torch.optim.Adam(model.parameters())\n",
    "loss_func = nn.L1Loss() #TODO try to use MAE\n",
    "\n",
    "for epoch in range(n_epochs):\n",
    "    for i, batch in enumerate(trainloader):\n",
    "        inputs, labels = batch\n",
    "        optim.zero_grad()\n",
    "        inputs = inputs.to(device)\n",
    "        # noise_inputs = inputs + \\\n",
    "        # torch.normal(torch.zeros_like(inputs), torch.ones_like(inputs)) * 0.7 \n",
    "        predict, mu, sigma = model(inputs)\n",
    "        loss = loss_func(inputs, predict) + 0.01 * kl_loss(mu, sigma)\n",
    "        loss.backward()\n",
    "        optim.step()\n",
    "        if i % 200 == 0:\n",
    "            print(f'epoch: {epoch}, step: {i}, loss: {loss.item()}')\n",
    "    item = dataset_test[555][0].unsqueeze(0).to(device).float()\n",
    "    # item = item + torch.normal(torch.zeros_like(item), torch.ones_like(item)) * 0.7\n",
    "    show_img(\n",
    "        item.squeeze().squeeze().cpu().detach().numpy(),\n",
    "        model(item)[0].squeeze().squeeze().cpu().detach().numpy()\n",
    "    )\n",
    "    torch.save(model.state_dict(), f'./lin_ae_chkpt_{epoch}.pth')"
   ]
  },
  {
   "cell_type": "code",
   "source": [
    "item = dataset_test[555][0].unsqueeze(0).to(device).float()\n",
    "mu, sigma = model.encoder(item)\n",
    "\n",
    "for _ in range(4):\n",
    "    hid = torch.normal(torch.zeros((1,1,7,7)), torch.ones((1,1,7,7))).to(device) \n",
    "\n",
    "    plt.imshow(model.decoder(hid).squeeze().squeeze().cpu().detach().numpy())\n",
    "    plt.show()"
   ],
   "metadata": {
    "id": "tBJRGVXgPdf7",
    "outputId": "7e3c1c4b-33b0-4bdc-f16a-ccea8fed15c9",
    "colab": {
     "base_uri": "https://localhost:8080/",
     "height": 1000
    }
   },
   "execution_count": 34,
   "outputs": [
    {
     "output_type": "display_data",
     "data": {
      "text/plain": [
       "<Figure size 432x288 with 1 Axes>"
      ],
      "image/png": "[encoded data removed]"
     },
     "metadata": {
      "needs_background": "light"
     }
    },
    {
     "output_type": "display_data",
     "data": {
      "text/plain": [
       "<Figure size 432x288 with 1 Axes>"
      ],
      "image/png": "[encoded data removed]"
     },
     "metadata": {
      "needs_background": "light"
     }
    },
    {
     "output_type": "display_data",
     "data": {
      "text/plain": [
       "<Figure size 432x288 with 1 Axes>"
      ],
      "image/png": "[encoded data removed]"
     },
     "metadata": {
      "needs_background": "light"
     }
    },
    {
     "output_type": "display_data",
     "data": {
      "text/plain": [
       "<Figure size 432x288 with 1 Axes>"
      ],
      "image/png": "[encoded data removed]"
     },
     "metadata": {
      "needs_background": "light"
     }
    }
   ]
  },
  {
   "cell_type": "code",
   "execution_count": null,
   "metadata": {
    "id": "HhH8O9eypgoj"
   },
   "outputs": [],
   "source": []
  }
 ],
 "metadata": {
  "accelerator": "GPU",
  "colab": {
   "provenance": []
  },
  "gpuClass": "standard",
  "kernelspec": {
   "display_name": "Python 3 (ipykernel)",
   "language": "python",
   "name": "python3"
  },
  "language_info": {
   "codemirror_mode": {
    "name": "ipython",
    "version": 3
   },
   "file_extension": ".py",
   "mimetype": "text/x-python",
   "name": "python",
   "nbconvert_exporter": "python",
   "pygments_lexer": "ipython3",
   "version": "3.9.13"
  },
  "varInspector": {
   "cols": {
    "lenName": 16,
    "lenType": 16,
    "lenVar": 40
   },
   "kernels_config": {
    "python": {
     "delete_cmd_postfix": "",
     "delete_cmd_prefix": "del ",
     "library": "var_list.py",
     "varRefreshCmd": "print(var_dic_list())"
    },
    "r": {
     "delete_cmd_postfix": ") ",
     "delete_cmd_prefix": "rm(",
     "library": "var_list.r",
     "varRefreshCmd": "cat(var_dic_list()) "
    }
   },
   "types_to_exclude": [
    "module",
    "function",
    "builtin_function_or_method",
    "instance",
    "_Feature"
   ],
   "window_display": false
  }
 },
 "nbformat": 4,
 "nbformat_minor": 0
}
