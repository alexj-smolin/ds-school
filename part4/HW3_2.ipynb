{
 "nbformat": 4,
 "nbformat_minor": 0,
 "metadata": {
  "colab": {
   "provenance": []
  },
  "kernelspec": {
   "name": "python3",
   "display_name": "Python 3"
  },
  "language_info": {
   "name": "python"
  },
  "gpuClass": "standard",
  "accelerator": "GPU"
 },
 "cells": [
  {
   "cell_type": "markdown",
   "source": [
    "[![Open In Colab](https://colab.research.google.com/assets/colab-badge.svg)](https://colab.research.google.com/github/alexj-smolin/ds-school/blob/main/part4/HW3_2.ipynb)"
   ],
   "metadata": {
    "collapsed": false,
    "id": "kTzj_rL4RGTM"
   }
  },
  {
   "cell_type": "code",
   "execution_count": 1,
   "metadata": {
    "id": "in0PyicHhZDG"
   },
   "outputs": [],
   "source": [
    "import numpy as np\n",
    "import torch\n",
    "import torch.nn as nn\n",
    "import torchvision.models as models\n",
    "from torchvision import datasets\n",
    "from torch.utils.data import DataLoader\n",
    "\n",
    "import matplotlib.pyplot as plt"
   ]
  },
  {
   "cell_type": "code",
   "source": [],
   "metadata": {
    "id": "73ieMA485Tme"
   },
   "execution_count": 1,
   "outputs": []
  },
  {
   "cell_type": "code",
   "source": [
    "dataset = datasets.MNIST('.', download=True)"
   ],
   "metadata": {
    "id": "SI8UCZuy7hTK"
   },
   "execution_count": 2,
   "outputs": []
  },
  {
   "cell_type": "code",
   "source": [
    "plt.imshow(np.array(dataset[0][0]), cmap='gray');"
   ],
   "metadata": {
    "colab": {
     "base_uri": "https://localhost:8080/",
     "height": 265
    },
    "id": "dhJuBtoz7f43",
    "outputId": "18f22f4c-537d-4fc6-a321-a872cac1fcdb"
   },
   "execution_count": 3,
   "outputs": [
    {
     "output_type": "display_data",
     "data": {
      "text/plain": [
       "<Figure size 432x288 with 1 Axes>"
      ],
      "image/png": "[encoded data removed]"
     },
     "metadata": {
      "needs_background": "light"
     }
    }
   ]
  },
  {
   "cell_type": "code",
   "source": [
    "import matplotlib.pyplot as plt\n",
    "noized = dataset.data[1234].float() / 255 + torch.normal(\n",
    "    torch.zeros_like(dataset.data[1234].float()), \n",
    "    0.2 * torch.ones_like(dataset.data[1234].float()))\n",
    "plt.imshow(noized.detach().numpy(), cmap='gray')\n",
    "plt.show()"
   ],
   "metadata": {
    "id": "0zXXXYP37gFL",
    "outputId": "ae0ac2c2-bd45-4762-f959-f8d518f1ba92",
    "colab": {
     "base_uri": "https://localhost:8080/",
     "height": 265
    }
   },
   "execution_count": 4,
   "outputs": [
    {
     "output_type": "display_data",
     "data": {
      "text/plain": [
       "<Figure size 432x288 with 1 Axes>"
      ],
      "image/png": "[encoded data removed]"
     },
     "metadata": {
      "needs_background": "light"
     }
    }
   ]
  },
  {
   "cell_type": "code",
   "source": [
    "def show_img(im_true, im_pred):\n",
    "    _, ax = plt.subplots(1, 2, figsize=(8, 4))\n",
    "    ax[0].imshow(im_true, cmap='gray')\n",
    "    ax[0].set_axis_off()\n",
    "    ax[1].imshow(im_pred, cmap='gray')\n",
    "    ax[1].set_axis_off()\n",
    "    plt.show()"
   ],
   "metadata": {
    "id": "YPGUWsCij1Id"
   },
   "execution_count": 5,
   "outputs": []
  },
  {
   "cell_type": "code",
   "source": [
    "# hyperparams\n",
    "latent_size = 64\n",
    "device_id = 0\n",
    "device = 'cpu' if device_id == -1 else f'cuda:{device_id}'\n",
    "n_epochs = 12\n",
    "batch_size = 128\n",
    "noise_factor = 0.4"
   ],
   "metadata": {
    "id": "uPJauY4hAqJ6"
   },
   "execution_count": 6,
   "outputs": []
  },
  {
   "cell_type": "code",
   "source": [
    "class Encoder(nn.Module):\n",
    "    def __init__(self, latent_size):\n",
    "        super().__init__()\n",
    "        self.c1 = self._conv_half(1, latent_size // 8) # 28x28 -> 14x14\n",
    "        self.c2 = self._conv_half(latent_size // 8, latent_size // 4) # 14x14 -> 7x7\n",
    "        self.c3 = self._conv_half(latent_size // 4, latent_size // 2) # 7x7 -> 3x3\n",
    "        self.c4 = self._conv_half(latent_size // 2, latent_size) # 3x3 -> 1x1\n",
    "\n",
    "    def _conv_half(self, in_ch, out_ch):\n",
    "        return nn.Sequential(\n",
    "            nn.Conv2d(in_ch, out_ch, kernel_size=4, stride=2, padding=1),\n",
    "            nn.LeakyReLU(inplace=True),\n",
    "            nn.BatchNorm2d(out_ch)\n",
    "        )\n",
    "\n",
    "    def forward(self, x):\n",
    "        x = self.c1(x)\n",
    "        x = self.c2(x)\n",
    "        x = self.c3(x)\n",
    "        x = self.c4(x)\n",
    "        return x.reshape(len(x), -1)\n",
    "\n",
    "\n",
    "class Decoder(nn.Module):\n",
    "    def __init__(self, latent_size):\n",
    "        super().__init__()\n",
    "        self.d1 = self._deconv_dbl(latent_size, latent_size // 2, (3, 3)) # 1x1 -> 3x3\n",
    "        self.d2 = self._deconv_dbl(latent_size // 2, latent_size // 4, (7, 7)) # 3x3 -> 7x7\n",
    "        self.d3 = self._deconv_dbl(latent_size // 4, latent_size // 8) # 7x7 -> 14x14\n",
    "        self.d4 = self._deconv_dbl(latent_size // 8, 1, act=False) # 14x14 -> 28x28\n",
    "\n",
    "    def _deconv_dbl(self, in_ch, out_ch, output_size=None, act=True):\n",
    "        deconv = nn.ConvTranspose2d(in_ch, out_ch, kernel_size=4, stride=2, padding=1)\n",
    "        if output_size:\n",
    "            deconv = self.AdjConvT2d(deconv, output_size)\n",
    "        if not act:\n",
    "            return nn.Sequential(deconv)\n",
    "        return nn.Sequential(\n",
    "            deconv,\n",
    "            nn.LeakyReLU(inplace=True),\n",
    "            nn.BatchNorm2d(out_ch)\n",
    "        )\n",
    "\n",
    "    class AdjConvT2d(nn.Module):\n",
    "        def __init__(self, conv, output_size):\n",
    "            super().__init__()\n",
    "            self.conv = conv\n",
    "            self.output_size = output_size\n",
    "        def forward(self, x):\n",
    "            return self.conv(x, output_size=self.output_size)\n",
    "    \n",
    "    def forward(self, x):\n",
    "        x = x[:, :, None, None]\n",
    "        x = self.d1(x)\n",
    "        x = self.d2(x)\n",
    "        x = self.d3(x)\n",
    "        x = self.d4(x)\n",
    "        return x\n",
    "\n",
    "    \n",
    "class HWAutoEncoder(nn.Module):\n",
    "    def __init__(self, latent_size):\n",
    "        super().__init__()\n",
    "        self.encoder = Encoder(latent_size)\n",
    "        self.decoder = Decoder(latent_size)\n",
    "\n",
    "    def forward(self, x):\n",
    "        return self.decoder(self.encoder(x))"
   ],
   "metadata": {
    "id": "KTz2txO4LTZ3"
   },
   "execution_count": 7,
   "outputs": []
  },
  {
   "cell_type": "code",
   "source": [
    "def collate_fn_conv(data: list):\n",
    "  # data = [(pic, target)...]\n",
    "  pics = []\n",
    "  target = []\n",
    "  for item in data:\n",
    "    pics.append(np.array(item[0]))\n",
    "    target.append(item[1])\n",
    "  pics = torch.from_numpy(np.array(pics)).float() / 255 # B x W x H\n",
    "  target = torch.from_numpy(np.array(target))\n",
    "\n",
    "  return {\n",
    "      'data': pics.unsqueeze(1), # B x 1 x W x H\n",
    "      'target': target.long(),\n",
    "      }"
   ],
   "metadata": {
    "id": "K_PACmDaH8Z7"
   },
   "execution_count": 8,
   "outputs": []
  },
  {
   "cell_type": "code",
   "source": [
    "model_conv = HWAutoEncoder(latent_size).to(device)\n",
    "optim = torch.optim.AdamW(model_conv.parameters(), lr=1e-2)\n",
    "sched = torch.optim.lr_scheduler.StepLR(optim, 3, 0.3, verbose=True)\n",
    "loss_func = nn.MSELoss()"
   ],
   "metadata": {
    "id": "a4gX5zVDIZdu",
    "outputId": "32db2232-dd40-4913-f337-483b181570af",
    "colab": {
     "base_uri": "https://localhost:8080/"
    }
   },
   "execution_count": 9,
   "outputs": [
    {
     "output_type": "stream",
     "name": "stdout",
     "text": [
      "Adjusting learning rate of group 0 to 1.0000e-02.\n"
     ]
    }
   ]
  },
  {
   "cell_type": "code",
   "source": [
    "for epoch in range(n_epochs):\n",
    "  dataloader = DataLoader(dataset, \n",
    "                          batch_size, \n",
    "                          shuffle=True, \n",
    "                          collate_fn=collate_fn_conv,\n",
    "                          drop_last = True,\n",
    "                          )\n",
    "  model_conv.train()\n",
    "  for i, batch in enumerate(dataloader):\n",
    "    optim.zero_grad()\n",
    "    data = batch['data'].to(device)\n",
    "    noized = torch.clamp(data + \n",
    "                         torch.normal(torch.zeros_like(data), \n",
    "                                      noise_factor * torch.ones_like(data)), 0., 1.)\n",
    "    predict = model_conv(noized)\n",
    "    loss = loss_func(predict, data)\n",
    "    loss.backward()\n",
    "    optim.step()\n",
    "    if i % 200 == 0:\n",
    "      print(f'epoch: {epoch}, step: {i}, loss: {loss.item()}')\n",
    "\n",
    "  model_conv.eval()\n",
    "  item = dataset.data[1234].unsqueeze(0).unsqueeze(0).float() / 255\n",
    "  item = torch.clamp(item + \n",
    "                     torch.normal(torch.zeros_like(item), \n",
    "                                  noise_factor * torch.ones_like(item)), 0., 1.)\n",
    "  pred = model_conv(item.to(device))\n",
    "  show_img(\n",
    "      item.squeeze().cpu().detach().numpy(),\n",
    "      pred.squeeze().cpu().detach().numpy()\n",
    "  )\n",
    "\n",
    "  sched.step()\n",
    "\n",
    "  torch.save(model_conv.state_dict(), f'./conv_ae_chkpt_conv_{epoch}.pth')"
   ],
   "metadata": {
    "id": "jVX0P0otIk4D",
    "outputId": "3c26d2a0-f291-4f91-ba2c-bad06281a8fc",
    "colab": {
     "base_uri": "https://localhost:8080/",
     "height": 1000
    }
   },
   "execution_count": 10,
   "outputs": [
    {
     "output_type": "stream",
     "name": "stdout",
     "text": [
      "epoch: 0, step: 0, loss: 0.776930034160614\n",
      "epoch: 0, step: 200, loss: 0.020949771627783775\n",
      "epoch: 0, step: 400, loss: 0.017001789063215256\n"
     ]
    },
    {
     "output_type": "display_data",
     "data": {
      "text/plain": [
       "<Figure size 576x288 with 2 Axes>"
      ],
      "image/png": "[encoded data removed]"
     },
     "metadata": {
      "needs_background": "light"
     }
    },
    {
     "output_type": "stream",
     "name": "stdout",
     "text": [
      "Adjusting learning rate of group 0 to 1.0000e-02.\n",
      "epoch: 1, step: 0, loss: 0.016299493610858917\n",
      "epoch: 1, step: 200, loss: 0.013520440086722374\n",
      "epoch: 1, step: 400, loss: 0.013159364461898804\n"
     ]
    },
    {
     "output_type": "display_data",
     "data": {
      "text/plain": [
       "<Figure size 576x288 with 2 Axes>"
      ],
      "image/png": "[encoded data removed]"
     },
     "metadata": {
      "needs_background": "light"
     }
    },
    {
     "output_type": "stream",
     "name": "stdout",
     "text": [
      "Adjusting learning rate of group 0 to 1.0000e-02.\n",
      "epoch: 2, step: 0, loss: 0.013200439512729645\n",
      "epoch: 2, step: 200, loss: 0.012137031182646751\n",
      "epoch: 2, step: 400, loss: 0.011013585142791271\n"
     ]
    },
    {
     "output_type": "display_data",
     "data": {
      "text/plain": [
       "<Figure size 576x288 with 2 Axes>"
      ],
      "image/png": "[encoded data removed]"
     },
     "metadata": {
      "needs_background": "light"
     }
    },
    {
     "output_type": "stream",
     "name": "stdout",
     "text": [
      "Adjusting learning rate of group 0 to 3.0000e-03.\n",
      "epoch: 3, step: 0, loss: 0.010161340236663818\n",
      "epoch: 3, step: 200, loss: 0.010737484320998192\n",
      "epoch: 3, step: 400, loss: 0.0103294113650918\n"
     ]
    },
    {
     "output_type": "display_data",
     "data": {
      "text/plain": [
       "<Figure size 576x288 with 2 Axes>"
      ],
      "image/png": "[encoded data removed]"
     },
     "metadata": {
      "needs_background": "light"
     }
    },
    {
     "output_type": "stream",
     "name": "stdout",
     "text": [
      "Adjusting learning rate of group 0 to 3.0000e-03.\n",
      "epoch: 4, step: 0, loss: 0.010368971154093742\n",
      "epoch: 4, step: 200, loss: 0.010491820052266121\n",
      "epoch: 4, step: 400, loss: 0.010019727982580662\n"
     ]
    },
    {
     "output_type": "display_data",
     "data": {
      "text/plain": [
       "<Figure size 576x288 with 2 Axes>"
      ],
      "image/png": "[encoded data removed]"
     },
     "metadata": {
      "needs_background": "light"
     }
    },
    {
     "output_type": "stream",
     "name": "stdout",
     "text": [
      "Adjusting learning rate of group 0 to 3.0000e-03.\n",
      "epoch: 5, step: 0, loss: 0.010464799590408802\n",
      "epoch: 5, step: 200, loss: 0.0102362846955657\n",
      "epoch: 5, step: 400, loss: 0.010101212188601494\n"
     ]
    },
    {
     "output_type": "display_data",
     "data": {
      "text/plain": [
       "<Figure size 576x288 with 2 Axes>"
      ],
      "image/png": "[encoded data removed]"
     },
     "metadata": {
      "needs_background": "light"
     }
    },
    {
     "output_type": "stream",
     "name": "stdout",
     "text": [
      "Adjusting learning rate of group 0 to 9.0000e-04.\n",
      "epoch: 6, step: 0, loss: 0.009710238315165043\n",
      "epoch: 6, step: 200, loss: 0.009102819487452507\n",
      "epoch: 6, step: 400, loss: 0.008901513181626797\n"
     ]
    },
    {
     "output_type": "display_data",
     "data": {
      "text/plain": [
       "<Figure size 576x288 with 2 Axes>"
      ],
      "image/png": "[encoded data removed]"
     },
     "metadata": {
      "needs_background": "light"
     }
    },
    {
     "output_type": "stream",
     "name": "stdout",
     "text": [
      "Adjusting learning rate of group 0 to 9.0000e-04.\n",
      "epoch: 7, step: 0, loss: 0.009928891435265541\n",
      "epoch: 7, step: 200, loss: 0.009682519361376762\n",
      "epoch: 7, step: 400, loss: 0.009615358896553516\n"
     ]
    },
    {
     "output_type": "display_data",
     "data": {
      "text/plain": [
       "<Figure size 576x288 with 2 Axes>"
      ],
      "image/png": "[encoded data removed]"
     },
     "metadata": {
      "needs_background": "light"
     }
    },
    {
     "output_type": "stream",
     "name": "stdout",
     "text": [
      "Adjusting learning rate of group 0 to 9.0000e-04.\n",
      "epoch: 8, step: 0, loss: 0.009392746724188328\n",
      "epoch: 8, step: 200, loss: 0.0098480936139822\n",
      "epoch: 8, step: 400, loss: 0.009815982542932034\n"
     ]
    },
    {
     "output_type": "display_data",
     "data": {
      "text/plain": [
       "<Figure size 576x288 with 2 Axes>"
      ],
      "image/png": "[encoded data removed]"
     },
     "metadata": {
      "needs_background": "light"
     }
    },
    {
     "output_type": "stream",
     "name": "stdout",
     "text": [
      "Adjusting learning rate of group 0 to 2.7000e-04.\n",
      "epoch: 9, step: 0, loss: 0.009196242317557335\n",
      "epoch: 9, step: 200, loss: 0.009333369322121143\n",
      "epoch: 9, step: 400, loss: 0.009834338910877705\n"
     ]
    },
    {
     "output_type": "display_data",
     "data": {
      "text/plain": [
       "<Figure size 576x288 with 2 Axes>"
      ],
      "image/png": "[encoded data removed]"
     },
     "metadata": {
      "needs_background": "light"
     }
    },
    {
     "output_type": "stream",
     "name": "stdout",
     "text": [
      "Adjusting learning rate of group 0 to 2.7000e-04.\n",
      "epoch: 10, step: 0, loss: 0.008826539851725101\n",
      "epoch: 10, step: 200, loss: 0.009318829514086246\n",
      "epoch: 10, step: 400, loss: 0.008864197880029678\n"
     ]
    },
    {
     "output_type": "display_data",
     "data": {
      "text/plain": [
       "<Figure size 576x288 with 2 Axes>"
      ],
      "image/png": "[encoded data removed]"
     },
     "metadata": {
      "needs_background": "light"
     }
    },
    {
     "output_type": "stream",
     "name": "stdout",
     "text": [
      "Adjusting learning rate of group 0 to 2.7000e-04.\n",
      "epoch: 11, step: 0, loss: 0.00947563722729683\n",
      "epoch: 11, step: 200, loss: 0.008880394510924816\n",
      "epoch: 11, step: 400, loss: 0.00907092448323965\n"
     ]
    },
    {
     "output_type": "display_data",
     "data": {
      "text/plain": [
       "<Figure size 576x288 with 2 Axes>"
      ],
      "image/png": "[encoded data removed]"
     },
     "metadata": {
      "needs_background": "light"
     }
    },
    {
     "output_type": "stream",
     "name": "stdout",
     "text": [
      "Adjusting learning rate of group 0 to 8.1000e-05.\n"
     ]
    }
   ]
  },
  {
   "cell_type": "code",
   "source": [],
   "metadata": {
    "id": "ZlFseOZ2x0NH"
   },
   "execution_count": 10,
   "outputs": []
  }
 ]
}
